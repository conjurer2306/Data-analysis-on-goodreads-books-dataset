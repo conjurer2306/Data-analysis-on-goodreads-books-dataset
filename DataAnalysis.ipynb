{
  "nbformat": 4,
  "nbformat_minor": 0,
  "metadata": {
    "kernelspec": {
      "display_name": "Python 3",
      "language": "python",
      "name": "python3"
    },
    "language_info": {
      "codemirror_mode": {
        "name": "ipython",
        "version": 3
      },
      "file_extension": ".py",
      "mimetype": "text/x-python",
      "name": "python",
      "nbconvert_exporter": "python",
      "pygments_lexer": "ipython3",
      "version": "3.6.3"
    },
    "colab": {
      "name": "DataAnalysis.ipynb",
      "provenance": [],
      "toc_visible": true,
      "include_colab_link": true
    }
  },
  "cells": [
    {
      "cell_type": "markdown",
      "metadata": {
        "id": "view-in-github",
        "colab_type": "text"
      },
      "source": [
        "<a href=\"https://colab.research.google.com/github/conjurer2306/Data-analysis-on-goodreads-books-dataset/blob/master/DataAnalysis.ipynb\" target=\"_parent\"><img src=\"https://colab.research.google.com/assets/colab-badge.svg\" alt=\"Open In Colab\"/></a>"
      ]
    },
    {
      "cell_type": "markdown",
      "metadata": {
        "id": "q1_ah-NiUyZy",
        "colab_type": "text"
      },
      "source": [
        "# Analyze Kaggle Goodreads-books dataset\n",
        "1. Explore\n",
        "2. Clean \n",
        "3. Feature Engineer the columns\n",
        "4. Build a Linear Regression model\n",
        "5. Evaluate the model\n",
        "6. Predict test cases\n",
        "7. Deploy a new test case"
      ]
    },
    {
      "cell_type": "code",
      "metadata": {
        "id": "wMvb_iWoUyZ0",
        "colab_type": "code",
        "colab": {
          "base_uri": "https://localhost:8080/",
          "height": 72
        },
        "outputId": "09d29605-2be6-4e53-e110-b7d58ff84325"
      },
      "source": [
        "#importing required packages\n",
        "import os\n",
        "import pandas as pd\n",
        "import numpy as np\n",
        "import matplotlib.pyplot as plt\n",
        "import seaborn as sns\n",
        "from sklearn import metrics\n",
        "from sklearn import preprocessing\n",
        "from sklearn.linear_model import LinearRegression\n",
        "from sklearn.model_selection import train_test_split"
      ],
      "execution_count": 1,
      "outputs": [
        {
          "output_type": "stream",
          "text": [
            "/usr/local/lib/python3.6/dist-packages/statsmodels/tools/_testing.py:19: FutureWarning: pandas.util.testing is deprecated. Use the functions in the public API at pandas.testing instead.\n",
            "  import pandas.util.testing as tm\n"
          ],
          "name": "stderr"
        }
      ]
    },
    {
      "cell_type": "code",
      "metadata": {
        "id": "pQs_WlEhUyZ9",
        "colab_type": "code",
        "colab": {
          "base_uri": "https://localhost:8080/",
          "height": 72
        },
        "outputId": "c80504b9-5fdf-447f-906a-5da75fcf27e8"
      },
      "source": [
        "#uploading the csv file as Pandas dataframe\n",
        "df = pd.read_csv(\"books.csv\",  error_bad_lines = False)\n",
        "print(\"The data contains {0} Rows and {1} Columns\".format(df.shape[0],df.shape[1]))"
      ],
      "execution_count": 3,
      "outputs": [
        {
          "output_type": "stream",
          "text": [
            "The data contains 13714 Rows and 10 Columns\n"
          ],
          "name": "stdout"
        },
        {
          "output_type": "stream",
          "text": [
            "b'Skipping line 4012: expected 10 fields, saw 11\\nSkipping line 5688: expected 10 fields, saw 11\\nSkipping line 7056: expected 10 fields, saw 11\\nSkipping line 10601: expected 10 fields, saw 11\\nSkipping line 10668: expected 10 fields, saw 11\\n'\n"
          ],
          "name": "stderr"
        }
      ]
    },
    {
      "cell_type": "code",
      "metadata": {
        "id": "ngI5ssizUyaG",
        "colab_type": "code",
        "colab": {
          "base_uri": "https://localhost:8080/",
          "height": 295
        },
        "outputId": "00b156e6-099a-49b2-c57b-90579f7cd8a5"
      },
      "source": [
        "#getting a look at the first 5 rows of the data\n",
        "df.head()"
      ],
      "execution_count": 5,
      "outputs": [
        {
          "output_type": "execute_result",
          "data": {
            "text/html": [
              "<div>\n",
              "<style scoped>\n",
              "    .dataframe tbody tr th:only-of-type {\n",
              "        vertical-align: middle;\n",
              "    }\n",
              "\n",
              "    .dataframe tbody tr th {\n",
              "        vertical-align: top;\n",
              "    }\n",
              "\n",
              "    .dataframe thead th {\n",
              "        text-align: right;\n",
              "    }\n",
              "</style>\n",
              "<table border=\"1\" class=\"dataframe\">\n",
              "  <thead>\n",
              "    <tr style=\"text-align: right;\">\n",
              "      <th></th>\n",
              "      <th>bookID</th>\n",
              "      <th>title</th>\n",
              "      <th>authors</th>\n",
              "      <th>average_rating</th>\n",
              "      <th>isbn</th>\n",
              "      <th>isbn13</th>\n",
              "      <th>language_code</th>\n",
              "      <th># num_pages</th>\n",
              "      <th>ratings_count</th>\n",
              "      <th>text_reviews_count</th>\n",
              "    </tr>\n",
              "  </thead>\n",
              "  <tbody>\n",
              "    <tr>\n",
              "      <th>0</th>\n",
              "      <td>1</td>\n",
              "      <td>Harry Potter and the Half-Blood Prince (Harry ...</td>\n",
              "      <td>J.K. Rowling-Mary GrandPré</td>\n",
              "      <td>4.56</td>\n",
              "      <td>0439785960</td>\n",
              "      <td>9780439785969</td>\n",
              "      <td>eng</td>\n",
              "      <td>652</td>\n",
              "      <td>1944099</td>\n",
              "      <td>26249</td>\n",
              "    </tr>\n",
              "    <tr>\n",
              "      <th>1</th>\n",
              "      <td>2</td>\n",
              "      <td>Harry Potter and the Order of the Phoenix (Har...</td>\n",
              "      <td>J.K. Rowling-Mary GrandPré</td>\n",
              "      <td>4.49</td>\n",
              "      <td>0439358078</td>\n",
              "      <td>9780439358071</td>\n",
              "      <td>eng</td>\n",
              "      <td>870</td>\n",
              "      <td>1996446</td>\n",
              "      <td>27613</td>\n",
              "    </tr>\n",
              "    <tr>\n",
              "      <th>2</th>\n",
              "      <td>3</td>\n",
              "      <td>Harry Potter and the Sorcerer's Stone (Harry P...</td>\n",
              "      <td>J.K. Rowling-Mary GrandPré</td>\n",
              "      <td>4.47</td>\n",
              "      <td>0439554934</td>\n",
              "      <td>9780439554930</td>\n",
              "      <td>eng</td>\n",
              "      <td>320</td>\n",
              "      <td>5629932</td>\n",
              "      <td>70390</td>\n",
              "    </tr>\n",
              "    <tr>\n",
              "      <th>3</th>\n",
              "      <td>4</td>\n",
              "      <td>Harry Potter and the Chamber of Secrets (Harry...</td>\n",
              "      <td>J.K. Rowling</td>\n",
              "      <td>4.41</td>\n",
              "      <td>0439554896</td>\n",
              "      <td>9780439554893</td>\n",
              "      <td>eng</td>\n",
              "      <td>352</td>\n",
              "      <td>6267</td>\n",
              "      <td>272</td>\n",
              "    </tr>\n",
              "    <tr>\n",
              "      <th>4</th>\n",
              "      <td>5</td>\n",
              "      <td>Harry Potter and the Prisoner of Azkaban (Harr...</td>\n",
              "      <td>J.K. Rowling-Mary GrandPré</td>\n",
              "      <td>4.55</td>\n",
              "      <td>043965548X</td>\n",
              "      <td>9780439655484</td>\n",
              "      <td>eng</td>\n",
              "      <td>435</td>\n",
              "      <td>2149872</td>\n",
              "      <td>33964</td>\n",
              "    </tr>\n",
              "  </tbody>\n",
              "</table>\n",
              "</div>"
            ],
            "text/plain": [
              "   bookID  ... text_reviews_count\n",
              "0       1  ...              26249\n",
              "1       2  ...              27613\n",
              "2       3  ...              70390\n",
              "3       4  ...                272\n",
              "4       5  ...              33964\n",
              "\n",
              "[5 rows x 10 columns]"
            ]
          },
          "metadata": {
            "tags": []
          },
          "execution_count": 5
        }
      ]
    },
    {
      "cell_type": "code",
      "metadata": {
        "id": "Cyf0IQ6OUyaO",
        "colab_type": "code",
        "colab": {
          "base_uri": "https://localhost:8080/",
          "height": 498
        },
        "outputId": "f65fbe93-a3b9-45e8-da5c-32de42334fff"
      },
      "source": [
        "# checking out the Top 10 rated books\n",
        "top10Books = df.nlargest(10, ['ratings_count']).set_index('title')['ratings_count']\n",
        "plot_dims = (12, 8)\n",
        "fig, ax = plt.subplots(figsize=plot_dims)\n",
        "sns.barplot(top10Books, top10Books.index)\n",
        "\n",
        "for i in ax.patches:\n",
        "    ax.text(i.get_width()+.3, i.get_y()+0.5, str(round(i.get_width())), fontsize = 15, color = 'k')\n",
        "    \n",
        "plt.show()"
      ],
      "execution_count": 6,
      "outputs": [
        {
          "output_type": "display_data",
          "data": {
            "image/png": "[encoded data removed]",
            "text/plain": [
              "<Figure size 864x576 with 1 Axes>"
            ]
          },
          "metadata": {
            "tags": [],
            "needs_background": "light"
          }
        }
      ]
    },
    {
      "cell_type": "code",
      "metadata": {
        "id": "BQRcj2flUyaU",
        "colab_type": "code",
        "colab": {
          "base_uri": "https://localhost:8080/",
          "height": 575
        },
        "outputId": "6a5da455-72d7-468c-bbeb-3e5a99024477"
      },
      "source": [
        "#Checking out Top 7 books categorized based on languages\n",
        "df['language_code'].value_counts().head(7).plot(kind = 'pie', figsize=(10, 10)).legend()\n",
        "plt.show()"
      ],
      "execution_count": 7,
      "outputs": [
        {
          "output_type": "display_data",
          "data": {
            "image/png": "[encoded data removed]",
            "text/plain": [
              "<Figure size 720x720 with 1 Axes>"
            ]
          },
          "metadata": {
            "tags": []
          }
        }
      ]
    },
    {
      "cell_type": "code",
      "metadata": {
        "id": "GDTmXnw0UyaZ",
        "colab_type": "code",
        "colab": {
          "base_uri": "https://localhost:8080/",
          "height": 295
        },
        "outputId": "e74a1616-ceca-4f7d-e449-2e09d3afde9c"
      },
      "source": [
        "df_index_ChosenLangs = df.loc[df['language_code'].isin(['eng','en-US', 'spa', 'fre'])] \n",
        "df_index_ChosenLangs.shape\n",
        "df.head()"
      ],
      "execution_count": 8,
      "outputs": [
        {
          "output_type": "execute_result",
          "data": {
            "text/html": [
              "<div>\n",
              "<style scoped>\n",
              "    .dataframe tbody tr th:only-of-type {\n",
              "        vertical-align: middle;\n",
              "    }\n",
              "\n",
              "    .dataframe tbody tr th {\n",
              "        vertical-align: top;\n",
              "    }\n",
              "\n",
              "    .dataframe thead th {\n",
              "        text-align: right;\n",
              "    }\n",
              "</style>\n",
              "<table border=\"1\" class=\"dataframe\">\n",
              "  <thead>\n",
              "    <tr style=\"text-align: right;\">\n",
              "      <th></th>\n",
              "      <th>bookID</th>\n",
              "      <th>title</th>\n",
              "      <th>authors</th>\n",
              "      <th>average_rating</th>\n",
              "      <th>isbn</th>\n",
              "      <th>isbn13</th>\n",
              "      <th>language_code</th>\n",
              "      <th># num_pages</th>\n",
              "      <th>ratings_count</th>\n",
              "      <th>text_reviews_count</th>\n",
              "    </tr>\n",
              "  </thead>\n",
              "  <tbody>\n",
              "    <tr>\n",
              "      <th>0</th>\n",
              "      <td>1</td>\n",
              "      <td>Harry Potter and the Half-Blood Prince (Harry ...</td>\n",
              "      <td>J.K. Rowling-Mary GrandPré</td>\n",
              "      <td>4.56</td>\n",
              "      <td>0439785960</td>\n",
              "      <td>9780439785969</td>\n",
              "      <td>eng</td>\n",
              "      <td>652</td>\n",
              "      <td>1944099</td>\n",
              "      <td>26249</td>\n",
              "    </tr>\n",
              "    <tr>\n",
              "      <th>1</th>\n",
              "      <td>2</td>\n",
              "      <td>Harry Potter and the Order of the Phoenix (Har...</td>\n",
              "      <td>J.K. Rowling-Mary GrandPré</td>\n",
              "      <td>4.49</td>\n",
              "      <td>0439358078</td>\n",
              "      <td>9780439358071</td>\n",
              "      <td>eng</td>\n",
              "      <td>870</td>\n",
              "      <td>1996446</td>\n",
              "      <td>27613</td>\n",
              "    </tr>\n",
              "    <tr>\n",
              "      <th>2</th>\n",
              "      <td>3</td>\n",
              "      <td>Harry Potter and the Sorcerer's Stone (Harry P...</td>\n",
              "      <td>J.K. Rowling-Mary GrandPré</td>\n",
              "      <td>4.47</td>\n",
              "      <td>0439554934</td>\n",
              "      <td>9780439554930</td>\n",
              "      <td>eng</td>\n",
              "      <td>320</td>\n",
              "      <td>5629932</td>\n",
              "      <td>70390</td>\n",
              "    </tr>\n",
              "    <tr>\n",
              "      <th>3</th>\n",
              "      <td>4</td>\n",
              "      <td>Harry Potter and the Chamber of Secrets (Harry...</td>\n",
              "      <td>J.K. Rowling</td>\n",
              "      <td>4.41</td>\n",
              "      <td>0439554896</td>\n",
              "      <td>9780439554893</td>\n",
              "      <td>eng</td>\n",
              "      <td>352</td>\n",
              "      <td>6267</td>\n",
              "      <td>272</td>\n",
              "    </tr>\n",
              "    <tr>\n",
              "      <th>4</th>\n",
              "      <td>5</td>\n",
              "      <td>Harry Potter and the Prisoner of Azkaban (Harr...</td>\n",
              "      <td>J.K. Rowling-Mary GrandPré</td>\n",
              "      <td>4.55</td>\n",
              "      <td>043965548X</td>\n",
              "      <td>9780439655484</td>\n",
              "      <td>eng</td>\n",
              "      <td>435</td>\n",
              "      <td>2149872</td>\n",
              "      <td>33964</td>\n",
              "    </tr>\n",
              "  </tbody>\n",
              "</table>\n",
              "</div>"
            ],
            "text/plain": [
              "   bookID  ... text_reviews_count\n",
              "0       1  ...              26249\n",
              "1       2  ...              27613\n",
              "2       3  ...              70390\n",
              "3       4  ...                272\n",
              "4       5  ...              33964\n",
              "\n",
              "[5 rows x 10 columns]"
            ]
          },
          "metadata": {
            "tags": []
          },
          "execution_count": 8
        }
      ]
    },
    {
      "cell_type": "code",
      "metadata": {
        "id": "csNe9jXYUyae",
        "colab_type": "code",
        "colab": {}
      },
      "source": [
        "#Splitting dataset into two parts based on ratings and languages\n",
        "#Assuming high ratings as ratings >= 100,000 and 'ratings_count' - Drop ratings below 100, 000\n",
        "High_Rating = 100000\n",
        "df_HighRatedBooks = df_index_ChosenLangs.drop(df_index_ChosenLangs.index[df_index_ChosenLangs['ratings_count'] <= High_Rating])"
      ],
      "execution_count": 9,
      "outputs": []
    },
    {
      "cell_type": "code",
      "metadata": {
        "id": "Xsat5TXpUyah",
        "colab_type": "code",
        "colab": {
          "base_uri": "https://localhost:8080/",
          "height": 35
        },
        "outputId": "ad370356-06e5-471b-b35f-9b57785a322c"
      },
      "source": [
        "df_HighRatedBooks.shape"
      ],
      "execution_count": 10,
      "outputs": [
        {
          "output_type": "execute_result",
          "data": {
            "text/plain": [
              "(454, 10)"
            ]
          },
          "metadata": {
            "tags": []
          },
          "execution_count": 10
        }
      ]
    },
    {
      "cell_type": "code",
      "metadata": {
        "id": "HsmhHh-vUyak",
        "colab_type": "code",
        "colab": {
          "base_uri": "https://localhost:8080/",
          "height": 295
        },
        "outputId": "1dbec28b-ebd1-4a44-fa49-e84852052e23"
      },
      "source": [
        "df_HighRatedBooks.head()"
      ],
      "execution_count": 11,
      "outputs": [
        {
          "output_type": "execute_result",
          "data": {
            "text/html": [
              "<div>\n",
              "<style scoped>\n",
              "    .dataframe tbody tr th:only-of-type {\n",
              "        vertical-align: middle;\n",
              "    }\n",
              "\n",
              "    .dataframe tbody tr th {\n",
              "        vertical-align: top;\n",
              "    }\n",
              "\n",
              "    .dataframe thead th {\n",
              "        text-align: right;\n",
              "    }\n",
              "</style>\n",
              "<table border=\"1\" class=\"dataframe\">\n",
              "  <thead>\n",
              "    <tr style=\"text-align: right;\">\n",
              "      <th></th>\n",
              "      <th>bookID</th>\n",
              "      <th>title</th>\n",
              "      <th>authors</th>\n",
              "      <th>average_rating</th>\n",
              "      <th>isbn</th>\n",
              "      <th>isbn13</th>\n",
              "      <th>language_code</th>\n",
              "      <th># num_pages</th>\n",
              "      <th>ratings_count</th>\n",
              "      <th>text_reviews_count</th>\n",
              "    </tr>\n",
              "  </thead>\n",
              "  <tbody>\n",
              "    <tr>\n",
              "      <th>0</th>\n",
              "      <td>1</td>\n",
              "      <td>Harry Potter and the Half-Blood Prince (Harry ...</td>\n",
              "      <td>J.K. Rowling-Mary GrandPré</td>\n",
              "      <td>4.56</td>\n",
              "      <td>0439785960</td>\n",
              "      <td>9780439785969</td>\n",
              "      <td>eng</td>\n",
              "      <td>652</td>\n",
              "      <td>1944099</td>\n",
              "      <td>26249</td>\n",
              "    </tr>\n",
              "    <tr>\n",
              "      <th>1</th>\n",
              "      <td>2</td>\n",
              "      <td>Harry Potter and the Order of the Phoenix (Har...</td>\n",
              "      <td>J.K. Rowling-Mary GrandPré</td>\n",
              "      <td>4.49</td>\n",
              "      <td>0439358078</td>\n",
              "      <td>9780439358071</td>\n",
              "      <td>eng</td>\n",
              "      <td>870</td>\n",
              "      <td>1996446</td>\n",
              "      <td>27613</td>\n",
              "    </tr>\n",
              "    <tr>\n",
              "      <th>2</th>\n",
              "      <td>3</td>\n",
              "      <td>Harry Potter and the Sorcerer's Stone (Harry P...</td>\n",
              "      <td>J.K. Rowling-Mary GrandPré</td>\n",
              "      <td>4.47</td>\n",
              "      <td>0439554934</td>\n",
              "      <td>9780439554930</td>\n",
              "      <td>eng</td>\n",
              "      <td>320</td>\n",
              "      <td>5629932</td>\n",
              "      <td>70390</td>\n",
              "    </tr>\n",
              "    <tr>\n",
              "      <th>4</th>\n",
              "      <td>5</td>\n",
              "      <td>Harry Potter and the Prisoner of Azkaban (Harr...</td>\n",
              "      <td>J.K. Rowling-Mary GrandPré</td>\n",
              "      <td>4.55</td>\n",
              "      <td>043965548X</td>\n",
              "      <td>9780439655484</td>\n",
              "      <td>eng</td>\n",
              "      <td>435</td>\n",
              "      <td>2149872</td>\n",
              "      <td>33964</td>\n",
              "    </tr>\n",
              "    <tr>\n",
              "      <th>9</th>\n",
              "      <td>13</td>\n",
              "      <td>The Ultimate Hitchhiker's Guide to the Galaxy</td>\n",
              "      <td>Douglas Adams</td>\n",
              "      <td>4.38</td>\n",
              "      <td>0345453743</td>\n",
              "      <td>9780345453747</td>\n",
              "      <td>eng</td>\n",
              "      <td>815</td>\n",
              "      <td>240189</td>\n",
              "      <td>3954</td>\n",
              "    </tr>\n",
              "  </tbody>\n",
              "</table>\n",
              "</div>"
            ],
            "text/plain": [
              "   bookID  ... text_reviews_count\n",
              "0       1  ...              26249\n",
              "1       2  ...              27613\n",
              "2       3  ...              70390\n",
              "4       5  ...              33964\n",
              "9      13  ...               3954\n",
              "\n",
              "[5 rows x 10 columns]"
            ]
          },
          "metadata": {
            "tags": []
          },
          "execution_count": 11
        }
      ]
    },
    {
      "cell_type": "code",
      "metadata": {
        "id": "ygYuHA8cUyan",
        "colab_type": "code",
        "colab": {}
      },
      "source": [
        "df_OtherBooks = df_index_ChosenLangs.drop(df_index_ChosenLangs.index[df_index_ChosenLangs['ratings_count'] > High_Rating])"
      ],
      "execution_count": 12,
      "outputs": []
    },
    {
      "cell_type": "code",
      "metadata": {
        "id": "7I9QhiamUyaq",
        "colab_type": "code",
        "colab": {
          "base_uri": "https://localhost:8080/",
          "height": 35
        },
        "outputId": "2c2dda1e-0d35-4670-bbfb-fa0f3b9c2356"
      },
      "source": [
        "df_OtherBooks.shape"
      ],
      "execution_count": 13,
      "outputs": [
        {
          "output_type": "execute_result",
          "data": {
            "text/plain": [
              "(12467, 10)"
            ]
          },
          "metadata": {
            "tags": []
          },
          "execution_count": 13
        }
      ]
    },
    {
      "cell_type": "code",
      "metadata": {
        "id": "ZrwV096mUyau",
        "colab_type": "code",
        "colab": {
          "base_uri": "https://localhost:8080/",
          "height": 295
        },
        "outputId": "6814846a-b79e-4fed-a805-c543e5667466"
      },
      "source": [
        "df_OtherBooks.head()"
      ],
      "execution_count": 14,
      "outputs": [
        {
          "output_type": "execute_result",
          "data": {
            "text/html": [
              "<div>\n",
              "<style scoped>\n",
              "    .dataframe tbody tr th:only-of-type {\n",
              "        vertical-align: middle;\n",
              "    }\n",
              "\n",
              "    .dataframe tbody tr th {\n",
              "        vertical-align: top;\n",
              "    }\n",
              "\n",
              "    .dataframe thead th {\n",
              "        text-align: right;\n",
              "    }\n",
              "</style>\n",
              "<table border=\"1\" class=\"dataframe\">\n",
              "  <thead>\n",
              "    <tr style=\"text-align: right;\">\n",
              "      <th></th>\n",
              "      <th>bookID</th>\n",
              "      <th>title</th>\n",
              "      <th>authors</th>\n",
              "      <th>average_rating</th>\n",
              "      <th>isbn</th>\n",
              "      <th>isbn13</th>\n",
              "      <th>language_code</th>\n",
              "      <th># num_pages</th>\n",
              "      <th>ratings_count</th>\n",
              "      <th>text_reviews_count</th>\n",
              "    </tr>\n",
              "  </thead>\n",
              "  <tbody>\n",
              "    <tr>\n",
              "      <th>3</th>\n",
              "      <td>4</td>\n",
              "      <td>Harry Potter and the Chamber of Secrets (Harry...</td>\n",
              "      <td>J.K. Rowling</td>\n",
              "      <td>4.41</td>\n",
              "      <td>0439554896</td>\n",
              "      <td>9780439554893</td>\n",
              "      <td>eng</td>\n",
              "      <td>352</td>\n",
              "      <td>6267</td>\n",
              "      <td>272</td>\n",
              "    </tr>\n",
              "    <tr>\n",
              "      <th>5</th>\n",
              "      <td>8</td>\n",
              "      <td>Harry Potter Boxed Set  Books 1-5 (Harry Potte...</td>\n",
              "      <td>J.K. Rowling-Mary GrandPré</td>\n",
              "      <td>4.78</td>\n",
              "      <td>0439682584</td>\n",
              "      <td>9780439682589</td>\n",
              "      <td>eng</td>\n",
              "      <td>2690</td>\n",
              "      <td>38872</td>\n",
              "      <td>154</td>\n",
              "    </tr>\n",
              "    <tr>\n",
              "      <th>6</th>\n",
              "      <td>9</td>\n",
              "      <td>Unauthorized Harry Potter Book Seven News: \"Ha...</td>\n",
              "      <td>W. Frederick Zimmerman</td>\n",
              "      <td>3.69</td>\n",
              "      <td>0976540606</td>\n",
              "      <td>9780976540601</td>\n",
              "      <td>en-US</td>\n",
              "      <td>152</td>\n",
              "      <td>18</td>\n",
              "      <td>1</td>\n",
              "    </tr>\n",
              "    <tr>\n",
              "      <th>7</th>\n",
              "      <td>10</td>\n",
              "      <td>Harry Potter Collection (Harry Potter  #1-6)</td>\n",
              "      <td>J.K. Rowling</td>\n",
              "      <td>4.73</td>\n",
              "      <td>0439827604</td>\n",
              "      <td>9780439827607</td>\n",
              "      <td>eng</td>\n",
              "      <td>3342</td>\n",
              "      <td>27410</td>\n",
              "      <td>820</td>\n",
              "    </tr>\n",
              "    <tr>\n",
              "      <th>8</th>\n",
              "      <td>12</td>\n",
              "      <td>The Ultimate Hitchhiker's Guide: Five Complete...</td>\n",
              "      <td>Douglas Adams</td>\n",
              "      <td>4.38</td>\n",
              "      <td>0517226952</td>\n",
              "      <td>9780517226957</td>\n",
              "      <td>eng</td>\n",
              "      <td>815</td>\n",
              "      <td>3602</td>\n",
              "      <td>258</td>\n",
              "    </tr>\n",
              "  </tbody>\n",
              "</table>\n",
              "</div>"
            ],
            "text/plain": [
              "   bookID  ... text_reviews_count\n",
              "3       4  ...                272\n",
              "5       8  ...                154\n",
              "6       9  ...                  1\n",
              "7      10  ...                820\n",
              "8      12  ...                258\n",
              "\n",
              "[5 rows x 10 columns]"
            ]
          },
          "metadata": {
            "tags": []
          },
          "execution_count": 14
        }
      ]
    },
    {
      "cell_type": "code",
      "metadata": {
        "id": "X1uOUv6-Uyay",
        "colab_type": "code",
        "colab": {}
      },
      "source": [
        "# encoding the Categorical variables for the two samples\n",
        "# encode title column in df_HighRatedBooks\n",
        "labelEncode = preprocessing.LabelEncoder()\n",
        "df_HighRatedBooks['title'] = labelEncode.fit_transform(df_HighRatedBooks['title'])\n",
        "df_OtherBooks['title'] = labelEncode.fit_transform(df_OtherBooks['title'])"
      ],
      "execution_count": 15,
      "outputs": []
    },
    {
      "cell_type": "code",
      "metadata": {
        "id": "LCh2W4uvUya1",
        "colab_type": "code",
        "colab": {
          "base_uri": "https://localhost:8080/",
          "height": 194
        },
        "outputId": "5ecf40b6-a007-4b6a-df0b-64eb948a5002"
      },
      "source": [
        "df_HighRatedBooks.head()"
      ],
      "execution_count": 16,
      "outputs": [
        {
          "output_type": "execute_result",
          "data": {
            "text/html": [
              "<div>\n",
              "<style scoped>\n",
              "    .dataframe tbody tr th:only-of-type {\n",
              "        vertical-align: middle;\n",
              "    }\n",
              "\n",
              "    .dataframe tbody tr th {\n",
              "        vertical-align: top;\n",
              "    }\n",
              "\n",
              "    .dataframe thead th {\n",
              "        text-align: right;\n",
              "    }\n",
              "</style>\n",
              "<table border=\"1\" class=\"dataframe\">\n",
              "  <thead>\n",
              "    <tr style=\"text-align: right;\">\n",
              "      <th></th>\n",
              "      <th>bookID</th>\n",
              "      <th>title</th>\n",
              "      <th>authors</th>\n",
              "      <th>average_rating</th>\n",
              "      <th>isbn</th>\n",
              "      <th>isbn13</th>\n",
              "      <th>language_code</th>\n",
              "      <th># num_pages</th>\n",
              "      <th>ratings_count</th>\n",
              "      <th>text_reviews_count</th>\n",
              "    </tr>\n",
              "  </thead>\n",
              "  <tbody>\n",
              "    <tr>\n",
              "      <th>0</th>\n",
              "      <td>1</td>\n",
              "      <td>136</td>\n",
              "      <td>J.K. Rowling-Mary GrandPré</td>\n",
              "      <td>4.56</td>\n",
              "      <td>0439785960</td>\n",
              "      <td>9780439785969</td>\n",
              "      <td>eng</td>\n",
              "      <td>652</td>\n",
              "      <td>1944099</td>\n",
              "      <td>26249</td>\n",
              "    </tr>\n",
              "    <tr>\n",
              "      <th>1</th>\n",
              "      <td>2</td>\n",
              "      <td>137</td>\n",
              "      <td>J.K. Rowling-Mary GrandPré</td>\n",
              "      <td>4.49</td>\n",
              "      <td>0439358078</td>\n",
              "      <td>9780439358071</td>\n",
              "      <td>eng</td>\n",
              "      <td>870</td>\n",
              "      <td>1996446</td>\n",
              "      <td>27613</td>\n",
              "    </tr>\n",
              "    <tr>\n",
              "      <th>2</th>\n",
              "      <td>3</td>\n",
              "      <td>139</td>\n",
              "      <td>J.K. Rowling-Mary GrandPré</td>\n",
              "      <td>4.47</td>\n",
              "      <td>0439554934</td>\n",
              "      <td>9780439554930</td>\n",
              "      <td>eng</td>\n",
              "      <td>320</td>\n",
              "      <td>5629932</td>\n",
              "      <td>70390</td>\n",
              "    </tr>\n",
              "    <tr>\n",
              "      <th>4</th>\n",
              "      <td>5</td>\n",
              "      <td>138</td>\n",
              "      <td>J.K. Rowling-Mary GrandPré</td>\n",
              "      <td>4.55</td>\n",
              "      <td>043965548X</td>\n",
              "      <td>9780439655484</td>\n",
              "      <td>eng</td>\n",
              "      <td>435</td>\n",
              "      <td>2149872</td>\n",
              "      <td>33964</td>\n",
              "    </tr>\n",
              "    <tr>\n",
              "      <th>9</th>\n",
              "      <td>13</td>\n",
              "      <td>401</td>\n",
              "      <td>Douglas Adams</td>\n",
              "      <td>4.38</td>\n",
              "      <td>0345453743</td>\n",
              "      <td>9780345453747</td>\n",
              "      <td>eng</td>\n",
              "      <td>815</td>\n",
              "      <td>240189</td>\n",
              "      <td>3954</td>\n",
              "    </tr>\n",
              "  </tbody>\n",
              "</table>\n",
              "</div>"
            ],
            "text/plain": [
              "   bookID  title  ... ratings_count  text_reviews_count\n",
              "0       1    136  ...       1944099               26249\n",
              "1       2    137  ...       1996446               27613\n",
              "2       3    139  ...       5629932               70390\n",
              "4       5    138  ...       2149872               33964\n",
              "9      13    401  ...        240189                3954\n",
              "\n",
              "[5 rows x 10 columns]"
            ]
          },
          "metadata": {
            "tags": []
          },
          "execution_count": 16
        }
      ]
    },
    {
      "cell_type": "code",
      "metadata": {
        "id": "XRJfd6gvUya5",
        "colab_type": "code",
        "colab": {
          "base_uri": "https://localhost:8080/",
          "height": 194
        },
        "outputId": "fd59d1be-03fa-4be1-aed8-c3f76f67be29"
      },
      "source": [
        "# encoding samples in df_OtherBooks\n",
        "df_OtherBooks.head()"
      ],
      "execution_count": 17,
      "outputs": [
        {
          "output_type": "execute_result",
          "data": {
            "text/html": [
              "<div>\n",
              "<style scoped>\n",
              "    .dataframe tbody tr th:only-of-type {\n",
              "        vertical-align: middle;\n",
              "    }\n",
              "\n",
              "    .dataframe tbody tr th {\n",
              "        vertical-align: top;\n",
              "    }\n",
              "\n",
              "    .dataframe thead th {\n",
              "        text-align: right;\n",
              "    }\n",
              "</style>\n",
              "<table border=\"1\" class=\"dataframe\">\n",
              "  <thead>\n",
              "    <tr style=\"text-align: right;\">\n",
              "      <th></th>\n",
              "      <th>bookID</th>\n",
              "      <th>title</th>\n",
              "      <th>authors</th>\n",
              "      <th>average_rating</th>\n",
              "      <th>isbn</th>\n",
              "      <th>isbn13</th>\n",
              "      <th>language_code</th>\n",
              "      <th># num_pages</th>\n",
              "      <th>ratings_count</th>\n",
              "      <th>text_reviews_count</th>\n",
              "    </tr>\n",
              "  </thead>\n",
              "  <tbody>\n",
              "    <tr>\n",
              "      <th>3</th>\n",
              "      <td>4</td>\n",
              "      <td>3379</td>\n",
              "      <td>J.K. Rowling</td>\n",
              "      <td>4.41</td>\n",
              "      <td>0439554896</td>\n",
              "      <td>9780439554893</td>\n",
              "      <td>eng</td>\n",
              "      <td>352</td>\n",
              "      <td>6267</td>\n",
              "      <td>272</td>\n",
              "    </tr>\n",
              "    <tr>\n",
              "      <th>5</th>\n",
              "      <td>8</td>\n",
              "      <td>3373</td>\n",
              "      <td>J.K. Rowling-Mary GrandPré</td>\n",
              "      <td>4.78</td>\n",
              "      <td>0439682584</td>\n",
              "      <td>9780439682589</td>\n",
              "      <td>eng</td>\n",
              "      <td>2690</td>\n",
              "      <td>38872</td>\n",
              "      <td>154</td>\n",
              "    </tr>\n",
              "    <tr>\n",
              "      <th>6</th>\n",
              "      <td>9</td>\n",
              "      <td>10820</td>\n",
              "      <td>W. Frederick Zimmerman</td>\n",
              "      <td>3.69</td>\n",
              "      <td>0976540606</td>\n",
              "      <td>9780976540601</td>\n",
              "      <td>en-US</td>\n",
              "      <td>152</td>\n",
              "      <td>18</td>\n",
              "      <td>1</td>\n",
              "    </tr>\n",
              "    <tr>\n",
              "      <th>7</th>\n",
              "      <td>10</td>\n",
              "      <td>3375</td>\n",
              "      <td>J.K. Rowling</td>\n",
              "      <td>4.73</td>\n",
              "      <td>0439827604</td>\n",
              "      <td>9780439827607</td>\n",
              "      <td>eng</td>\n",
              "      <td>3342</td>\n",
              "      <td>27410</td>\n",
              "      <td>820</td>\n",
              "    </tr>\n",
              "    <tr>\n",
              "      <th>8</th>\n",
              "      <td>12</td>\n",
              "      <td>10187</td>\n",
              "      <td>Douglas Adams</td>\n",
              "      <td>4.38</td>\n",
              "      <td>0517226952</td>\n",
              "      <td>9780517226957</td>\n",
              "      <td>eng</td>\n",
              "      <td>815</td>\n",
              "      <td>3602</td>\n",
              "      <td>258</td>\n",
              "    </tr>\n",
              "  </tbody>\n",
              "</table>\n",
              "</div>"
            ],
            "text/plain": [
              "   bookID  title  ... ratings_count  text_reviews_count\n",
              "3       4   3379  ...          6267                 272\n",
              "5       8   3373  ...         38872                 154\n",
              "6       9  10820  ...            18                   1\n",
              "7      10   3375  ...         27410                 820\n",
              "8      12  10187  ...          3602                 258\n",
              "\n",
              "[5 rows x 10 columns]"
            ]
          },
          "metadata": {
            "tags": []
          },
          "execution_count": 17
        }
      ]
    },
    {
      "cell_type": "code",
      "metadata": {
        "id": "1FK61HnlUya9",
        "colab_type": "code",
        "colab": {
          "base_uri": "https://localhost:8080/",
          "height": 194
        },
        "outputId": "406c3643-cf51-4af8-ea34-6554535efcb3"
      },
      "source": [
        "# encode authors column in df_HighRatedBooks\n",
        "df_HighRatedBooks['authors'] = labelEncode.fit_transform(df_HighRatedBooks['authors'])\n",
        "df_HighRatedBooks.head()"
      ],
      "execution_count": 18,
      "outputs": [
        {
          "output_type": "execute_result",
          "data": {
            "text/html": [
              "<div>\n",
              "<style scoped>\n",
              "    .dataframe tbody tr th:only-of-type {\n",
              "        vertical-align: middle;\n",
              "    }\n",
              "\n",
              "    .dataframe tbody tr th {\n",
              "        vertical-align: top;\n",
              "    }\n",
              "\n",
              "    .dataframe thead th {\n",
              "        text-align: right;\n",
              "    }\n",
              "</style>\n",
              "<table border=\"1\" class=\"dataframe\">\n",
              "  <thead>\n",
              "    <tr style=\"text-align: right;\">\n",
              "      <th></th>\n",
              "      <th>bookID</th>\n",
              "      <th>title</th>\n",
              "      <th>authors</th>\n",
              "      <th>average_rating</th>\n",
              "      <th>isbn</th>\n",
              "      <th>isbn13</th>\n",
              "      <th>language_code</th>\n",
              "      <th># num_pages</th>\n",
              "      <th>ratings_count</th>\n",
              "      <th>text_reviews_count</th>\n",
              "    </tr>\n",
              "  </thead>\n",
              "  <tbody>\n",
              "    <tr>\n",
              "      <th>0</th>\n",
              "      <td>1</td>\n",
              "      <td>136</td>\n",
              "      <td>119</td>\n",
              "      <td>4.56</td>\n",
              "      <td>0439785960</td>\n",
              "      <td>9780439785969</td>\n",
              "      <td>eng</td>\n",
              "      <td>652</td>\n",
              "      <td>1944099</td>\n",
              "      <td>26249</td>\n",
              "    </tr>\n",
              "    <tr>\n",
              "      <th>1</th>\n",
              "      <td>2</td>\n",
              "      <td>137</td>\n",
              "      <td>119</td>\n",
              "      <td>4.49</td>\n",
              "      <td>0439358078</td>\n",
              "      <td>9780439358071</td>\n",
              "      <td>eng</td>\n",
              "      <td>870</td>\n",
              "      <td>1996446</td>\n",
              "      <td>27613</td>\n",
              "    </tr>\n",
              "    <tr>\n",
              "      <th>2</th>\n",
              "      <td>3</td>\n",
              "      <td>139</td>\n",
              "      <td>119</td>\n",
              "      <td>4.47</td>\n",
              "      <td>0439554934</td>\n",
              "      <td>9780439554930</td>\n",
              "      <td>eng</td>\n",
              "      <td>320</td>\n",
              "      <td>5629932</td>\n",
              "      <td>70390</td>\n",
              "    </tr>\n",
              "    <tr>\n",
              "      <th>4</th>\n",
              "      <td>5</td>\n",
              "      <td>138</td>\n",
              "      <td>119</td>\n",
              "      <td>4.55</td>\n",
              "      <td>043965548X</td>\n",
              "      <td>9780439655484</td>\n",
              "      <td>eng</td>\n",
              "      <td>435</td>\n",
              "      <td>2149872</td>\n",
              "      <td>33964</td>\n",
              "    </tr>\n",
              "    <tr>\n",
              "      <th>9</th>\n",
              "      <td>13</td>\n",
              "      <td>401</td>\n",
              "      <td>67</td>\n",
              "      <td>4.38</td>\n",
              "      <td>0345453743</td>\n",
              "      <td>9780345453747</td>\n",
              "      <td>eng</td>\n",
              "      <td>815</td>\n",
              "      <td>240189</td>\n",
              "      <td>3954</td>\n",
              "    </tr>\n",
              "  </tbody>\n",
              "</table>\n",
              "</div>"
            ],
            "text/plain": [
              "   bookID  title  authors  ...  # num_pages ratings_count  text_reviews_count\n",
              "0       1    136      119  ...          652       1944099               26249\n",
              "1       2    137      119  ...          870       1996446               27613\n",
              "2       3    139      119  ...          320       5629932               70390\n",
              "4       5    138      119  ...          435       2149872               33964\n",
              "9      13    401       67  ...          815        240189                3954\n",
              "\n",
              "[5 rows x 10 columns]"
            ]
          },
          "metadata": {
            "tags": []
          },
          "execution_count": 18
        }
      ]
    },
    {
      "cell_type": "markdown",
      "metadata": {
        "id": "Ph2iHsf-UybA",
        "colab_type": "text"
      },
      "source": [
        "#### Encoding samples in df_OtherBooks"
      ]
    },
    {
      "cell_type": "code",
      "metadata": {
        "id": "GyuTAk3BUybB",
        "colab_type": "code",
        "colab": {
          "base_uri": "https://localhost:8080/",
          "height": 194
        },
        "outputId": "b4813743-aa3e-4974-ca34-e08807e8e22d"
      },
      "source": [
        "# encoding samples in df_OtherBooks\n",
        "df_OtherBooks['authors'] = labelEncode.fit_transform(df_OtherBooks['authors'])\n",
        "df_OtherBooks.head()"
      ],
      "execution_count": 19,
      "outputs": [
        {
          "output_type": "execute_result",
          "data": {
            "text/html": [
              "<div>\n",
              "<style scoped>\n",
              "    .dataframe tbody tr th:only-of-type {\n",
              "        vertical-align: middle;\n",
              "    }\n",
              "\n",
              "    .dataframe tbody tr th {\n",
              "        vertical-align: top;\n",
              "    }\n",
              "\n",
              "    .dataframe thead th {\n",
              "        text-align: right;\n",
              "    }\n",
              "</style>\n",
              "<table border=\"1\" class=\"dataframe\">\n",
              "  <thead>\n",
              "    <tr style=\"text-align: right;\">\n",
              "      <th></th>\n",
              "      <th>bookID</th>\n",
              "      <th>title</th>\n",
              "      <th>authors</th>\n",
              "      <th>average_rating</th>\n",
              "      <th>isbn</th>\n",
              "      <th>isbn13</th>\n",
              "      <th>language_code</th>\n",
              "      <th># num_pages</th>\n",
              "      <th>ratings_count</th>\n",
              "      <th>text_reviews_count</th>\n",
              "    </tr>\n",
              "  </thead>\n",
              "  <tbody>\n",
              "    <tr>\n",
              "      <th>3</th>\n",
              "      <td>4</td>\n",
              "      <td>3379</td>\n",
              "      <td>2842</td>\n",
              "      <td>4.41</td>\n",
              "      <td>0439554896</td>\n",
              "      <td>9780439554893</td>\n",
              "      <td>eng</td>\n",
              "      <td>352</td>\n",
              "      <td>6267</td>\n",
              "      <td>272</td>\n",
              "    </tr>\n",
              "    <tr>\n",
              "      <th>5</th>\n",
              "      <td>8</td>\n",
              "      <td>3373</td>\n",
              "      <td>2845</td>\n",
              "      <td>4.78</td>\n",
              "      <td>0439682584</td>\n",
              "      <td>9780439682589</td>\n",
              "      <td>eng</td>\n",
              "      <td>2690</td>\n",
              "      <td>38872</td>\n",
              "      <td>154</td>\n",
              "    </tr>\n",
              "    <tr>\n",
              "      <th>6</th>\n",
              "      <td>9</td>\n",
              "      <td>10820</td>\n",
              "      <td>6814</td>\n",
              "      <td>3.69</td>\n",
              "      <td>0976540606</td>\n",
              "      <td>9780976540601</td>\n",
              "      <td>en-US</td>\n",
              "      <td>152</td>\n",
              "      <td>18</td>\n",
              "      <td>1</td>\n",
              "    </tr>\n",
              "    <tr>\n",
              "      <th>7</th>\n",
              "      <td>10</td>\n",
              "      <td>3375</td>\n",
              "      <td>2842</td>\n",
              "      <td>4.73</td>\n",
              "      <td>0439827604</td>\n",
              "      <td>9780439827607</td>\n",
              "      <td>eng</td>\n",
              "      <td>3342</td>\n",
              "      <td>27410</td>\n",
              "      <td>820</td>\n",
              "    </tr>\n",
              "    <tr>\n",
              "      <th>8</th>\n",
              "      <td>12</td>\n",
              "      <td>10187</td>\n",
              "      <td>1582</td>\n",
              "      <td>4.38</td>\n",
              "      <td>0517226952</td>\n",
              "      <td>9780517226957</td>\n",
              "      <td>eng</td>\n",
              "      <td>815</td>\n",
              "      <td>3602</td>\n",
              "      <td>258</td>\n",
              "    </tr>\n",
              "  </tbody>\n",
              "</table>\n",
              "</div>"
            ],
            "text/plain": [
              "   bookID  title  authors  ...  # num_pages ratings_count  text_reviews_count\n",
              "3       4   3379     2842  ...          352          6267                 272\n",
              "5       8   3373     2845  ...         2690         38872                 154\n",
              "6       9  10820     6814  ...          152            18                   1\n",
              "7      10   3375     2842  ...         3342         27410                 820\n",
              "8      12  10187     1582  ...          815          3602                 258\n",
              "\n",
              "[5 rows x 10 columns]"
            ]
          },
          "metadata": {
            "tags": []
          },
          "execution_count": 19
        }
      ]
    },
    {
      "cell_type": "code",
      "metadata": {
        "id": "bGJVJ8zYUybF",
        "colab_type": "code",
        "colab": {}
      },
      "source": [
        "#df_OtherBooks = df_OtherBooks.loc[df['language_code'].isin(['eng','en-US', 'spa', 'fre'])] "
      ],
      "execution_count": 20,
      "outputs": []
    },
    {
      "cell_type": "code",
      "metadata": {
        "id": "pw_b919AUybJ",
        "colab_type": "code",
        "colab": {
          "base_uri": "https://localhost:8080/",
          "height": 212
        },
        "outputId": "21b4cffa-a674-4a4c-8fd3-98933206fdea"
      },
      "source": [
        "# dummy encode the 'language_code'\n",
        "# encoding samples in df_HighRatedBooks\n",
        "encoded_lang_high = pd.get_dummies(df_HighRatedBooks['language_code'])\n",
        "colsExist2 = df_HighRatedBooks.columns.isin(['en-US', 'eng', 'fre', 'spa']).any()\n",
        "if  colsExist2 == False:\n",
        "    df_HighRatedBooks = pd.concat([df_HighRatedBooks, encoded_lang_high], axis = 1)\n",
        "print(df_HighRatedBooks.shape)\n",
        "df_HighRatedBooks.head()"
      ],
      "execution_count": 21,
      "outputs": [
        {
          "output_type": "stream",
          "text": [
            "(454, 14)\n"
          ],
          "name": "stdout"
        },
        {
          "output_type": "execute_result",
          "data": {
            "text/html": [
              "<div>\n",
              "<style scoped>\n",
              "    .dataframe tbody tr th:only-of-type {\n",
              "        vertical-align: middle;\n",
              "    }\n",
              "\n",
              "    .dataframe tbody tr th {\n",
              "        vertical-align: top;\n",
              "    }\n",
              "\n",
              "    .dataframe thead th {\n",
              "        text-align: right;\n",
              "    }\n",
              "</style>\n",
              "<table border=\"1\" class=\"dataframe\">\n",
              "  <thead>\n",
              "    <tr style=\"text-align: right;\">\n",
              "      <th></th>\n",
              "      <th>bookID</th>\n",
              "      <th>title</th>\n",
              "      <th>authors</th>\n",
              "      <th>average_rating</th>\n",
              "      <th>isbn</th>\n",
              "      <th>isbn13</th>\n",
              "      <th>language_code</th>\n",
              "      <th># num_pages</th>\n",
              "      <th>ratings_count</th>\n",
              "      <th>text_reviews_count</th>\n",
              "      <th>en-US</th>\n",
              "      <th>eng</th>\n",
              "      <th>fre</th>\n",
              "      <th>spa</th>\n",
              "    </tr>\n",
              "  </thead>\n",
              "  <tbody>\n",
              "    <tr>\n",
              "      <th>0</th>\n",
              "      <td>1</td>\n",
              "      <td>136</td>\n",
              "      <td>119</td>\n",
              "      <td>4.56</td>\n",
              "      <td>0439785960</td>\n",
              "      <td>9780439785969</td>\n",
              "      <td>eng</td>\n",
              "      <td>652</td>\n",
              "      <td>1944099</td>\n",
              "      <td>26249</td>\n",
              "      <td>0</td>\n",
              "      <td>1</td>\n",
              "      <td>0</td>\n",
              "      <td>0</td>\n",
              "    </tr>\n",
              "    <tr>\n",
              "      <th>1</th>\n",
              "      <td>2</td>\n",
              "      <td>137</td>\n",
              "      <td>119</td>\n",
              "      <td>4.49</td>\n",
              "      <td>0439358078</td>\n",
              "      <td>9780439358071</td>\n",
              "      <td>eng</td>\n",
              "      <td>870</td>\n",
              "      <td>1996446</td>\n",
              "      <td>27613</td>\n",
              "      <td>0</td>\n",
              "      <td>1</td>\n",
              "      <td>0</td>\n",
              "      <td>0</td>\n",
              "    </tr>\n",
              "    <tr>\n",
              "      <th>2</th>\n",
              "      <td>3</td>\n",
              "      <td>139</td>\n",
              "      <td>119</td>\n",
              "      <td>4.47</td>\n",
              "      <td>0439554934</td>\n",
              "      <td>9780439554930</td>\n",
              "      <td>eng</td>\n",
              "      <td>320</td>\n",
              "      <td>5629932</td>\n",
              "      <td>70390</td>\n",
              "      <td>0</td>\n",
              "      <td>1</td>\n",
              "      <td>0</td>\n",
              "      <td>0</td>\n",
              "    </tr>\n",
              "    <tr>\n",
              "      <th>4</th>\n",
              "      <td>5</td>\n",
              "      <td>138</td>\n",
              "      <td>119</td>\n",
              "      <td>4.55</td>\n",
              "      <td>043965548X</td>\n",
              "      <td>9780439655484</td>\n",
              "      <td>eng</td>\n",
              "      <td>435</td>\n",
              "      <td>2149872</td>\n",
              "      <td>33964</td>\n",
              "      <td>0</td>\n",
              "      <td>1</td>\n",
              "      <td>0</td>\n",
              "      <td>0</td>\n",
              "    </tr>\n",
              "    <tr>\n",
              "      <th>9</th>\n",
              "      <td>13</td>\n",
              "      <td>401</td>\n",
              "      <td>67</td>\n",
              "      <td>4.38</td>\n",
              "      <td>0345453743</td>\n",
              "      <td>9780345453747</td>\n",
              "      <td>eng</td>\n",
              "      <td>815</td>\n",
              "      <td>240189</td>\n",
              "      <td>3954</td>\n",
              "      <td>0</td>\n",
              "      <td>1</td>\n",
              "      <td>0</td>\n",
              "      <td>0</td>\n",
              "    </tr>\n",
              "  </tbody>\n",
              "</table>\n",
              "</div>"
            ],
            "text/plain": [
              "   bookID  title  authors  average_rating  ... en-US  eng fre  spa\n",
              "0       1    136      119            4.56  ...     0    1   0    0\n",
              "1       2    137      119            4.49  ...     0    1   0    0\n",
              "2       3    139      119            4.47  ...     0    1   0    0\n",
              "4       5    138      119            4.55  ...     0    1   0    0\n",
              "9      13    401       67            4.38  ...     0    1   0    0\n",
              "\n",
              "[5 rows x 14 columns]"
            ]
          },
          "metadata": {
            "tags": []
          },
          "execution_count": 21
        }
      ]
    },
    {
      "cell_type": "code",
      "metadata": {
        "id": "tKqdZjluUybN",
        "colab_type": "code",
        "colab": {
          "base_uri": "https://localhost:8080/",
          "height": 212
        },
        "outputId": "89aabce7-0f1d-42d9-b579-8b708455f2a3"
      },
      "source": [
        "# encoding samples in df_OtherBooks\n",
        "encoded_lang_other = pd.get_dummies(df_OtherBooks['language_code'])\n",
        "encoded_lang_other.head()\n",
        "colsExist = df_OtherBooks.columns.isin(['en-US', 'eng', 'fre', 'spa']).any()\n",
        "if  colsExist == False:\n",
        "    df_OtherBooks = pd.concat([df_OtherBooks, encoded_lang_other], axis = 1)\n",
        "print(df_OtherBooks.shape)\n",
        "df_OtherBooks.head()"
      ],
      "execution_count": 22,
      "outputs": [
        {
          "output_type": "stream",
          "text": [
            "(12467, 14)\n"
          ],
          "name": "stdout"
        },
        {
          "output_type": "execute_result",
          "data": {
            "text/html": [
              "<div>\n",
              "<style scoped>\n",
              "    .dataframe tbody tr th:only-of-type {\n",
              "        vertical-align: middle;\n",
              "    }\n",
              "\n",
              "    .dataframe tbody tr th {\n",
              "        vertical-align: top;\n",
              "    }\n",
              "\n",
              "    .dataframe thead th {\n",
              "        text-align: right;\n",
              "    }\n",
              "</style>\n",
              "<table border=\"1\" class=\"dataframe\">\n",
              "  <thead>\n",
              "    <tr style=\"text-align: right;\">\n",
              "      <th></th>\n",
              "      <th>bookID</th>\n",
              "      <th>title</th>\n",
              "      <th>authors</th>\n",
              "      <th>average_rating</th>\n",
              "      <th>isbn</th>\n",
              "      <th>isbn13</th>\n",
              "      <th>language_code</th>\n",
              "      <th># num_pages</th>\n",
              "      <th>ratings_count</th>\n",
              "      <th>text_reviews_count</th>\n",
              "      <th>en-US</th>\n",
              "      <th>eng</th>\n",
              "      <th>fre</th>\n",
              "      <th>spa</th>\n",
              "    </tr>\n",
              "  </thead>\n",
              "  <tbody>\n",
              "    <tr>\n",
              "      <th>3</th>\n",
              "      <td>4</td>\n",
              "      <td>3379</td>\n",
              "      <td>2842</td>\n",
              "      <td>4.41</td>\n",
              "      <td>0439554896</td>\n",
              "      <td>9780439554893</td>\n",
              "      <td>eng</td>\n",
              "      <td>352</td>\n",
              "      <td>6267</td>\n",
              "      <td>272</td>\n",
              "      <td>0</td>\n",
              "      <td>1</td>\n",
              "      <td>0</td>\n",
              "      <td>0</td>\n",
              "    </tr>\n",
              "    <tr>\n",
              "      <th>5</th>\n",
              "      <td>8</td>\n",
              "      <td>3373</td>\n",
              "      <td>2845</td>\n",
              "      <td>4.78</td>\n",
              "      <td>0439682584</td>\n",
              "      <td>9780439682589</td>\n",
              "      <td>eng</td>\n",
              "      <td>2690</td>\n",
              "      <td>38872</td>\n",
              "      <td>154</td>\n",
              "      <td>0</td>\n",
              "      <td>1</td>\n",
              "      <td>0</td>\n",
              "      <td>0</td>\n",
              "    </tr>\n",
              "    <tr>\n",
              "      <th>6</th>\n",
              "      <td>9</td>\n",
              "      <td>10820</td>\n",
              "      <td>6814</td>\n",
              "      <td>3.69</td>\n",
              "      <td>0976540606</td>\n",
              "      <td>9780976540601</td>\n",
              "      <td>en-US</td>\n",
              "      <td>152</td>\n",
              "      <td>18</td>\n",
              "      <td>1</td>\n",
              "      <td>1</td>\n",
              "      <td>0</td>\n",
              "      <td>0</td>\n",
              "      <td>0</td>\n",
              "    </tr>\n",
              "    <tr>\n",
              "      <th>7</th>\n",
              "      <td>10</td>\n",
              "      <td>3375</td>\n",
              "      <td>2842</td>\n",
              "      <td>4.73</td>\n",
              "      <td>0439827604</td>\n",
              "      <td>9780439827607</td>\n",
              "      <td>eng</td>\n",
              "      <td>3342</td>\n",
              "      <td>27410</td>\n",
              "      <td>820</td>\n",
              "      <td>0</td>\n",
              "      <td>1</td>\n",
              "      <td>0</td>\n",
              "      <td>0</td>\n",
              "    </tr>\n",
              "    <tr>\n",
              "      <th>8</th>\n",
              "      <td>12</td>\n",
              "      <td>10187</td>\n",
              "      <td>1582</td>\n",
              "      <td>4.38</td>\n",
              "      <td>0517226952</td>\n",
              "      <td>9780517226957</td>\n",
              "      <td>eng</td>\n",
              "      <td>815</td>\n",
              "      <td>3602</td>\n",
              "      <td>258</td>\n",
              "      <td>0</td>\n",
              "      <td>1</td>\n",
              "      <td>0</td>\n",
              "      <td>0</td>\n",
              "    </tr>\n",
              "  </tbody>\n",
              "</table>\n",
              "</div>"
            ],
            "text/plain": [
              "   bookID  title  authors  average_rating  ... en-US  eng fre  spa\n",
              "3       4   3379     2842            4.41  ...     0    1   0    0\n",
              "5       8   3373     2845            4.78  ...     0    1   0    0\n",
              "6       9  10820     6814            3.69  ...     1    0   0    0\n",
              "7      10   3375     2842            4.73  ...     0    1   0    0\n",
              "8      12  10187     1582            4.38  ...     0    1   0    0\n",
              "\n",
              "[5 rows x 14 columns]"
            ]
          },
          "metadata": {
            "tags": []
          },
          "execution_count": 22
        }
      ]
    },
    {
      "cell_type": "code",
      "metadata": {
        "id": "EWoK4MFxUybS",
        "colab_type": "code",
        "colab": {}
      },
      "source": [
        "# building a Linear Regression Model\n",
        "def ModelBuilding_LinearRegression(df_Current, testSize=0.2):\n",
        "    # divide the data into attributes and labels\n",
        "    X = df_Current.drop(['average_rating', 'language_code', 'isbn'], axis = 1)\n",
        "    y = df_Current['average_rating']\n",
        "    print(\"Shape of Inputs = {0}\".format(X.shape))\n",
        "    print(\"Shape of Target = {0}\".format(y.shape))\n",
        "    # split 80% of the data to the training set and 20% of the data to test set \n",
        "    X_train, X_test, y_train, y_test = train_test_split(X, y, test_size = testSize, random_state = 999)\n",
        "    linReg = LinearRegression()\n",
        "    linReg.fit(X_train, y_train)\n",
        "    print(\"Intercept = {0}\".format(linReg.intercept_))\n",
        "    print(\"Coefficients = {0}\".format(linReg.coef_.tolist()))\n",
        "    predictions = linReg.predict(X_test)\n",
        "    return (predictions, X_test, y_test, linReg)"
      ],
      "execution_count": 24,
      "outputs": []
    },
    {
      "cell_type": "code",
      "metadata": {
        "id": "Eqxr__4cUybW",
        "colab_type": "code",
        "colab": {
          "base_uri": "https://localhost:8080/",
          "height": 108
        },
        "outputId": "52b32ad0-9ebc-401d-ee3b-c2a0e6c6692d"
      },
      "source": [
        "# model Intercept, coefficients and \"average_rating\" predictions for Highly rated books\n",
        "Pedicted_Scores, X_test, y_test, linReg = ModelBuilding_LinearRegression(df_HighRatedBooks)"
      ],
      "execution_count": 25,
      "outputs": [
        {
          "output_type": "stream",
          "text": [
            "Shape of Inputs = (454, 11)\n",
            "Shape of Target = (454,)\n",
            "Intercept = -23.82269314075994\n",
            "Coefficients = [1.2167641836840476e-06, -7.105512967541573e-05, -0.000278707743371055, 2.8311522099139577e-12, 0.00019539858327324644, 5.7984528226895623e-08, -1.3905380466673775e-06, 0.10478836561401028, 0.11056485334229402, -0.13248573914300715, -0.08286747981329659]\n"
          ],
          "name": "stdout"
        }
      ]
    },
    {
      "cell_type": "code",
      "metadata": {
        "id": "hn4PPygjUyba",
        "colab_type": "code",
        "colab": {
          "base_uri": "https://localhost:8080/",
          "height": 340
        },
        "outputId": "339442fb-25f2-45eb-bbb5-ea8b4735e869"
      },
      "source": [
        "Actual_Predicted = pd.DataFrame({'Observed': y_test.tolist(), 'Predicted': Pedicted_Scores.tolist()})\n",
        "Actual_Predicted['diff'] = Actual_Predicted['Observed'] - Actual_Predicted['Predicted']\n",
        "Actual_Predicted.head(10)"
      ],
      "execution_count": 27,
      "outputs": [
        {
          "output_type": "execute_result",
          "data": {
            "text/html": [
              "<div>\n",
              "<style scoped>\n",
              "    .dataframe tbody tr th:only-of-type {\n",
              "        vertical-align: middle;\n",
              "    }\n",
              "\n",
              "    .dataframe tbody tr th {\n",
              "        vertical-align: top;\n",
              "    }\n",
              "\n",
              "    .dataframe thead th {\n",
              "        text-align: right;\n",
              "    }\n",
              "</style>\n",
              "<table border=\"1\" class=\"dataframe\">\n",
              "  <thead>\n",
              "    <tr style=\"text-align: right;\">\n",
              "      <th></th>\n",
              "      <th>Observed</th>\n",
              "      <th>Predicted</th>\n",
              "      <th>diff</th>\n",
              "    </tr>\n",
              "  </thead>\n",
              "  <tbody>\n",
              "    <tr>\n",
              "      <th>0</th>\n",
              "      <td>3.96</td>\n",
              "      <td>4.033805</td>\n",
              "      <td>-0.073805</td>\n",
              "    </tr>\n",
              "    <tr>\n",
              "      <th>1</th>\n",
              "      <td>3.99</td>\n",
              "      <td>3.990838</td>\n",
              "      <td>-0.000838</td>\n",
              "    </tr>\n",
              "    <tr>\n",
              "      <th>2</th>\n",
              "      <td>4.00</td>\n",
              "      <td>3.945433</td>\n",
              "      <td>0.054567</td>\n",
              "    </tr>\n",
              "    <tr>\n",
              "      <th>3</th>\n",
              "      <td>4.24</td>\n",
              "      <td>4.012508</td>\n",
              "      <td>0.227492</td>\n",
              "    </tr>\n",
              "    <tr>\n",
              "      <th>4</th>\n",
              "      <td>3.96</td>\n",
              "      <td>3.978972</td>\n",
              "      <td>-0.018972</td>\n",
              "    </tr>\n",
              "    <tr>\n",
              "      <th>5</th>\n",
              "      <td>4.03</td>\n",
              "      <td>3.993076</td>\n",
              "      <td>0.036924</td>\n",
              "    </tr>\n",
              "    <tr>\n",
              "      <th>6</th>\n",
              "      <td>4.15</td>\n",
              "      <td>4.049198</td>\n",
              "      <td>0.100802</td>\n",
              "    </tr>\n",
              "    <tr>\n",
              "      <th>7</th>\n",
              "      <td>3.97</td>\n",
              "      <td>4.018045</td>\n",
              "      <td>-0.048045</td>\n",
              "    </tr>\n",
              "    <tr>\n",
              "      <th>8</th>\n",
              "      <td>4.06</td>\n",
              "      <td>3.949395</td>\n",
              "      <td>0.110605</td>\n",
              "    </tr>\n",
              "    <tr>\n",
              "      <th>9</th>\n",
              "      <td>3.70</td>\n",
              "      <td>3.982329</td>\n",
              "      <td>-0.282329</td>\n",
              "    </tr>\n",
              "  </tbody>\n",
              "</table>\n",
              "</div>"
            ],
            "text/plain": [
              "   Observed  Predicted      diff\n",
              "0      3.96   4.033805 -0.073805\n",
              "1      3.99   3.990838 -0.000838\n",
              "2      4.00   3.945433  0.054567\n",
              "3      4.24   4.012508  0.227492\n",
              "4      3.96   3.978972 -0.018972\n",
              "5      4.03   3.993076  0.036924\n",
              "6      4.15   4.049198  0.100802\n",
              "7      3.97   4.018045 -0.048045\n",
              "8      4.06   3.949395  0.110605\n",
              "9      3.70   3.982329 -0.282329"
            ]
          },
          "metadata": {
            "tags": []
          },
          "execution_count": 27
        }
      ]
    },
    {
      "cell_type": "code",
      "metadata": {
        "id": "_3i3_w1wUybf",
        "colab_type": "code",
        "colab": {
          "base_uri": "https://localhost:8080/",
          "height": 88
        },
        "outputId": "60c09432-140a-4759-d6f5-43825a00ab86"
      },
      "source": [
        "# evaluate the performance of the algorithm\n",
        "print('Mean Absolute Error (MAE):', metrics.mean_absolute_error(y_test, Pedicted_Scores))\n",
        "print('Mean Squared Error (MSE):', metrics.mean_squared_error(y_test, Pedicted_Scores))\n",
        "print('Root Mean Squared Error (RMSE):', np.sqrt(metrics.mean_squared_error(y_test, Pedicted_Scores)))\n",
        "print('Mean Absolute Error (MAE):', np.sum(abs(Actual_Predicted['diff']))/Actual_Predicted.shape[0])"
      ],
      "execution_count": 28,
      "outputs": [
        {
          "output_type": "stream",
          "text": [
            "Mean Absolute Error (MAE): 0.170027298020585\n",
            "Mean Squared Error (MSE): 0.04685604930505388\n",
            "Root Mean Squared Error (RMSE): 0.21646258176658126\n",
            "Mean Absolute Error (MAE): 0.170027298020585\n"
          ],
          "name": "stdout"
        }
      ]
    },
    {
      "cell_type": "code",
      "metadata": {
        "id": "6MSCp62-Uybi",
        "colab_type": "code",
        "colab": {
          "base_uri": "https://localhost:8080/",
          "height": 194
        },
        "outputId": "6f8736a8-f4eb-487e-df00-540c855542d8"
      },
      "source": [
        "X_test.head()"
      ],
      "execution_count": 29,
      "outputs": [
        {
          "output_type": "execute_result",
          "data": {
            "text/html": [
              "<div>\n",
              "<style scoped>\n",
              "    .dataframe tbody tr th:only-of-type {\n",
              "        vertical-align: middle;\n",
              "    }\n",
              "\n",
              "    .dataframe tbody tr th {\n",
              "        vertical-align: top;\n",
              "    }\n",
              "\n",
              "    .dataframe thead th {\n",
              "        text-align: right;\n",
              "    }\n",
              "</style>\n",
              "<table border=\"1\" class=\"dataframe\">\n",
              "  <thead>\n",
              "    <tr style=\"text-align: right;\">\n",
              "      <th></th>\n",
              "      <th>bookID</th>\n",
              "      <th>title</th>\n",
              "      <th>authors</th>\n",
              "      <th>isbn13</th>\n",
              "      <th># num_pages</th>\n",
              "      <th>ratings_count</th>\n",
              "      <th>text_reviews_count</th>\n",
              "      <th>en-US</th>\n",
              "      <th>eng</th>\n",
              "      <th>fre</th>\n",
              "      <th>spa</th>\n",
              "    </tr>\n",
              "  </thead>\n",
              "  <tbody>\n",
              "    <tr>\n",
              "      <th>9581</th>\n",
              "      <td>30868</td>\n",
              "      <td>282</td>\n",
              "      <td>27</td>\n",
              "      <td>9780812474947</td>\n",
              "      <td>232</td>\n",
              "      <td>117003</td>\n",
              "      <td>5141</td>\n",
              "      <td>0</td>\n",
              "      <td>1</td>\n",
              "      <td>0</td>\n",
              "      <td>0</td>\n",
              "    </tr>\n",
              "    <tr>\n",
              "      <th>12250</th>\n",
              "      <td>41899</td>\n",
              "      <td>105</td>\n",
              "      <td>223</td>\n",
              "      <td>9780439321600</td>\n",
              "      <td>128</td>\n",
              "      <td>240268</td>\n",
              "      <td>5219</td>\n",
              "      <td>0</td>\n",
              "      <td>1</td>\n",
              "      <td>0</td>\n",
              "      <td>0</td>\n",
              "    </tr>\n",
              "    <tr>\n",
              "      <th>2222</th>\n",
              "      <td>6689</td>\n",
              "      <td>157</td>\n",
              "      <td>249</td>\n",
              "      <td>9780375814242</td>\n",
              "      <td>146</td>\n",
              "      <td>309497</td>\n",
              "      <td>4481</td>\n",
              "      <td>0</td>\n",
              "      <td>1</td>\n",
              "      <td>0</td>\n",
              "      <td>0</td>\n",
              "    </tr>\n",
              "    <tr>\n",
              "      <th>2684</th>\n",
              "      <td>8127</td>\n",
              "      <td>46</td>\n",
              "      <td>181</td>\n",
              "      <td>9780451528827</td>\n",
              "      <td>320</td>\n",
              "      <td>583568</td>\n",
              "      <td>12837</td>\n",
              "      <td>0</td>\n",
              "      <td>1</td>\n",
              "      <td>0</td>\n",
              "      <td>0</td>\n",
              "    </tr>\n",
              "    <tr>\n",
              "      <th>1165</th>\n",
              "      <td>3478</td>\n",
              "      <td>195</td>\n",
              "      <td>225</td>\n",
              "      <td>9780446676076</td>\n",
              "      <td>342</td>\n",
              "      <td>197377</td>\n",
              "      <td>3431</td>\n",
              "      <td>0</td>\n",
              "      <td>1</td>\n",
              "      <td>0</td>\n",
              "      <td>0</td>\n",
              "    </tr>\n",
              "  </tbody>\n",
              "</table>\n",
              "</div>"
            ],
            "text/plain": [
              "       bookID  title  authors         isbn13  ...  en-US  eng  fre  spa\n",
              "9581    30868    282       27  9780812474947  ...      0    1    0    0\n",
              "12250   41899    105      223  9780439321600  ...      0    1    0    0\n",
              "2222     6689    157      249  9780375814242  ...      0    1    0    0\n",
              "2684     8127     46      181  9780451528827  ...      0    1    0    0\n",
              "1165     3478    195      225  9780446676076  ...      0    1    0    0\n",
              "\n",
              "[5 rows x 11 columns]"
            ]
          },
          "metadata": {
            "tags": []
          },
          "execution_count": 29
        }
      ]
    },
    {
      "cell_type": "code",
      "metadata": {
        "id": "WJ4xh_gTUybl",
        "colab_type": "code",
        "colab": {}
      },
      "source": [
        "# testing mock case\n",
        "Mocked_Case = np.array([33333, 888, 27, 9780812474947, 232, 117003, 5141, 0, 1, 0, 0])"
      ],
      "execution_count": 30,
      "outputs": []
    },
    {
      "cell_type": "code",
      "metadata": {
        "id": "dfybNcO9Uybq",
        "colab_type": "code",
        "colab": {}
      },
      "source": [
        "Score_Mocked_Case = linReg.predict(Mocked_Case.reshape(1, -1))"
      ],
      "execution_count": 31,
      "outputs": []
    },
    {
      "cell_type": "code",
      "metadata": {
        "id": "HGY4Qc2bUybu",
        "colab_type": "code",
        "colab": {
          "base_uri": "https://localhost:8080/",
          "height": 76
        },
        "outputId": "5a475c78-e23e-4411-ffd2-2e43a985a887"
      },
      "source": [
        "Predictions = pd.DataFrame({'Observed': y_test.iloc[0], 'Predicted': Score_Mocked_Case})\n",
        "Predictions"
      ],
      "execution_count": 32,
      "outputs": [
        {
          "output_type": "execute_result",
          "data": {
            "text/html": [
              "<div>\n",
              "<style scoped>\n",
              "    .dataframe tbody tr th:only-of-type {\n",
              "        vertical-align: middle;\n",
              "    }\n",
              "\n",
              "    .dataframe tbody tr th {\n",
              "        vertical-align: top;\n",
              "    }\n",
              "\n",
              "    .dataframe thead th {\n",
              "        text-align: right;\n",
              "    }\n",
              "</style>\n",
              "<table border=\"1\" class=\"dataframe\">\n",
              "  <thead>\n",
              "    <tr style=\"text-align: right;\">\n",
              "      <th></th>\n",
              "      <th>Observed</th>\n",
              "      <th>Predicted</th>\n",
              "    </tr>\n",
              "  </thead>\n",
              "  <tbody>\n",
              "    <tr>\n",
              "      <th>0</th>\n",
              "      <td>3.96</td>\n",
              "      <td>3.993745</td>\n",
              "    </tr>\n",
              "  </tbody>\n",
              "</table>\n",
              "</div>"
            ],
            "text/plain": [
              "   Observed  Predicted\n",
              "0      3.96   3.993745"
            ]
          },
          "metadata": {
            "tags": []
          },
          "execution_count": 32
        }
      ]
    },
    {
      "cell_type": "code",
      "metadata": {
        "id": "0uDbyQ26Uybw",
        "colab_type": "code",
        "colab": {
          "base_uri": "https://localhost:8080/",
          "height": 52
        },
        "outputId": "35f3bfa5-9d95-4b0c-cfcd-26ccaebe072a"
      },
      "source": [
        "X2 = df_OtherBooks.drop(['average_rating', 'language_code', 'isbn'], axis = 1)\n",
        "y2 = df_OtherBooks['average_rating']\n",
        "print(X2.shape)\n",
        "print(y2.shape)"
      ],
      "execution_count": 33,
      "outputs": [
        {
          "output_type": "stream",
          "text": [
            "(12467, 11)\n",
            "(12467,)\n"
          ],
          "name": "stdout"
        }
      ]
    },
    {
      "cell_type": "code",
      "metadata": {
        "id": "bLvBEr6TUybz",
        "colab_type": "code",
        "colab": {}
      },
      "source": [
        "Scores2 = linReg.predict(X2)"
      ],
      "execution_count": 34,
      "outputs": []
    },
    {
      "cell_type": "code",
      "metadata": {
        "id": "4SQDC3DtUyb2",
        "colab_type": "code",
        "colab": {
          "base_uri": "https://localhost:8080/",
          "height": 340
        },
        "outputId": "7e47e009-9ed5-4902-b374-0ca1a5583d81"
      },
      "source": [
        "DeployedModelPredictions = pd.DataFrame({'Observed': y2.tolist(), 'Predicted': Scores2.tolist()})\n",
        "DeployedModelPredictions['diff'] = DeployedModelPredictions['Observed'] - DeployedModelPredictions['Predicted']\n",
        "DeployedModelPredictions.head(10)"
      ],
      "execution_count": 35,
      "outputs": [
        {
          "output_type": "execute_result",
          "data": {
            "text/html": [
              "<div>\n",
              "<style scoped>\n",
              "    .dataframe tbody tr th:only-of-type {\n",
              "        vertical-align: middle;\n",
              "    }\n",
              "\n",
              "    .dataframe tbody tr th {\n",
              "        vertical-align: top;\n",
              "    }\n",
              "\n",
              "    .dataframe thead th {\n",
              "        text-align: right;\n",
              "    }\n",
              "</style>\n",
              "<table border=\"1\" class=\"dataframe\">\n",
              "  <thead>\n",
              "    <tr style=\"text-align: right;\">\n",
              "      <th></th>\n",
              "      <th>Observed</th>\n",
              "      <th>Predicted</th>\n",
              "      <th>diff</th>\n",
              "    </tr>\n",
              "  </thead>\n",
              "  <tbody>\n",
              "    <tr>\n",
              "      <th>0</th>\n",
              "      <td>4.41</td>\n",
              "      <td>3.014372</td>\n",
              "      <td>1.395628</td>\n",
              "    </tr>\n",
              "    <tr>\n",
              "      <th>1</th>\n",
              "      <td>4.78</td>\n",
              "      <td>3.472864</td>\n",
              "      <td>1.307136</td>\n",
              "    </tr>\n",
              "    <tr>\n",
              "      <th>2</th>\n",
              "      <td>3.69</td>\n",
              "      <td>1.335309</td>\n",
              "      <td>2.354691</td>\n",
              "    </tr>\n",
              "    <tr>\n",
              "      <th>3</th>\n",
              "      <td>4.73</td>\n",
              "      <td>3.599370</td>\n",
              "      <td>1.130630</td>\n",
              "    </tr>\n",
              "    <tr>\n",
              "      <th>4</th>\n",
              "      <td>4.38</td>\n",
              "      <td>2.972365</td>\n",
              "      <td>1.407635</td>\n",
              "    </tr>\n",
              "    <tr>\n",
              "      <th>5</th>\n",
              "      <td>4.22</td>\n",
              "      <td>2.964404</td>\n",
              "      <td>1.255596</td>\n",
              "    </tr>\n",
              "    <tr>\n",
              "      <th>6</th>\n",
              "      <td>4.22</td>\n",
              "      <td>2.920613</td>\n",
              "      <td>1.299387</td>\n",
              "    </tr>\n",
              "    <tr>\n",
              "      <th>7</th>\n",
              "      <td>4.38</td>\n",
              "      <td>2.966712</td>\n",
              "      <td>1.413288</td>\n",
              "    </tr>\n",
              "    <tr>\n",
              "      <th>8</th>\n",
              "      <td>3.43</td>\n",
              "      <td>3.727401</td>\n",
              "      <td>-0.297401</td>\n",
              "    </tr>\n",
              "    <tr>\n",
              "      <th>9</th>\n",
              "      <td>3.88</td>\n",
              "      <td>3.748680</td>\n",
              "      <td>0.131320</td>\n",
              "    </tr>\n",
              "  </tbody>\n",
              "</table>\n",
              "</div>"
            ],
            "text/plain": [
              "   Observed  Predicted      diff\n",
              "0      4.41   3.014372  1.395628\n",
              "1      4.78   3.472864  1.307136\n",
              "2      3.69   1.335309  2.354691\n",
              "3      4.73   3.599370  1.130630\n",
              "4      4.38   2.972365  1.407635\n",
              "5      4.22   2.964404  1.255596\n",
              "6      4.22   2.920613  1.299387\n",
              "7      4.38   2.966712  1.413288\n",
              "8      3.43   3.727401 -0.297401\n",
              "9      3.88   3.748680  0.131320"
            ]
          },
          "metadata": {
            "tags": []
          },
          "execution_count": 35
        }
      ]
    },
    {
      "cell_type": "code",
      "metadata": {
        "id": "8vMcGSHpUyb4",
        "colab_type": "code",
        "colab": {
          "base_uri": "https://localhost:8080/",
          "height": 35
        },
        "outputId": "f7007ae2-b36b-4151-997a-01a7e03049a4"
      },
      "source": [
        "# model built for df_HighRatedBooks performs worse on df_OtherBooks with a Mean Absolute Error (MAE) 1.3479\n",
        "print('Mean Absolute Error (MAE):', np.sum(abs(DeployedModelPredictions['diff']))/DeployedModelPredictions.shape[0])"
      ],
      "execution_count": 36,
      "outputs": [
        {
          "output_type": "stream",
          "text": [
            "Mean Absolute Error (MAE): 1.347939982175012\n"
          ],
          "name": "stdout"
        }
      ]
    },
    {
      "cell_type": "code",
      "metadata": {
        "id": "MhUurXIpUyb7",
        "colab_type": "code",
        "colab": {
          "base_uri": "https://localhost:8080/",
          "height": 108
        },
        "outputId": "c0044b55-8d63-4d81-8ce2-21d942b586de"
      },
      "source": [
        "# model Intercept, coefficients and \"average_rating\" predictions for Other books not highly rated (i.e. with ratings < 100,000)\n",
        "Pedicted_Scores, X_test, y_test, linReg = ModelBuilding_LinearRegression(df_OtherBooks)"
      ],
      "execution_count": 37,
      "outputs": [
        {
          "output_type": "stream",
          "text": [
            "Shape of Inputs = (12467, 11)\n",
            "Shape of Target = (12467,)\n",
            "Intercept = 3.858845884761504\n",
            "Coefficients = [-9.109819086162846e-07, 1.464280513948941e-06, 1.0441401818176285e-06, 7.208193206410156e-16, 0.00022798845634429692, 3.769067319315255e-06, -7.28546937594143e-05, -0.016066264062233226, -0.013023909263107179, 0.04162899380999344, -0.012538820484652753]\n"
          ],
          "name": "stdout"
        }
      ]
    },
    {
      "cell_type": "code",
      "metadata": {
        "id": "Da_eEBPNUyb-",
        "colab_type": "code",
        "colab": {
          "base_uri": "https://localhost:8080/",
          "height": 340
        },
        "outputId": "2f445cd1-8541-4045-8353-0d13a823ba32"
      },
      "source": [
        "Actual_Predicted = pd.DataFrame({'Observed': y_test.tolist(), 'Predicted': Pedicted_Scores.tolist()})\n",
        "Actual_Predicted['diff'] = Actual_Predicted['Observed'] - Actual_Predicted['Predicted']\n",
        "Actual_Predicted.head(10)"
      ],
      "execution_count": 38,
      "outputs": [
        {
          "output_type": "execute_result",
          "data": {
            "text/html": [
              "<div>\n",
              "<style scoped>\n",
              "    .dataframe tbody tr th:only-of-type {\n",
              "        vertical-align: middle;\n",
              "    }\n",
              "\n",
              "    .dataframe tbody tr th {\n",
              "        vertical-align: top;\n",
              "    }\n",
              "\n",
              "    .dataframe thead th {\n",
              "        text-align: right;\n",
              "    }\n",
              "</style>\n",
              "<table border=\"1\" class=\"dataframe\">\n",
              "  <thead>\n",
              "    <tr style=\"text-align: right;\">\n",
              "      <th></th>\n",
              "      <th>Observed</th>\n",
              "      <th>Predicted</th>\n",
              "      <th>diff</th>\n",
              "    </tr>\n",
              "  </thead>\n",
              "  <tbody>\n",
              "    <tr>\n",
              "      <th>0</th>\n",
              "      <td>4.29</td>\n",
              "      <td>3.883288</td>\n",
              "      <td>0.406712</td>\n",
              "    </tr>\n",
              "    <tr>\n",
              "      <th>1</th>\n",
              "      <td>4.23</td>\n",
              "      <td>3.819300</td>\n",
              "      <td>0.410700</td>\n",
              "    </tr>\n",
              "    <tr>\n",
              "      <th>2</th>\n",
              "      <td>3.27</td>\n",
              "      <td>3.954950</td>\n",
              "      <td>-0.684950</td>\n",
              "    </tr>\n",
              "    <tr>\n",
              "      <th>3</th>\n",
              "      <td>3.99</td>\n",
              "      <td>3.919310</td>\n",
              "      <td>0.070690</td>\n",
              "    </tr>\n",
              "    <tr>\n",
              "      <th>4</th>\n",
              "      <td>3.83</td>\n",
              "      <td>3.922710</td>\n",
              "      <td>-0.092710</td>\n",
              "    </tr>\n",
              "    <tr>\n",
              "      <th>5</th>\n",
              "      <td>3.66</td>\n",
              "      <td>3.913309</td>\n",
              "      <td>-0.253309</td>\n",
              "    </tr>\n",
              "    <tr>\n",
              "      <th>6</th>\n",
              "      <td>3.64</td>\n",
              "      <td>3.914832</td>\n",
              "      <td>-0.274832</td>\n",
              "    </tr>\n",
              "    <tr>\n",
              "      <th>7</th>\n",
              "      <td>3.74</td>\n",
              "      <td>3.918488</td>\n",
              "      <td>-0.178488</td>\n",
              "    </tr>\n",
              "    <tr>\n",
              "      <th>8</th>\n",
              "      <td>4.06</td>\n",
              "      <td>3.823783</td>\n",
              "      <td>0.236217</td>\n",
              "    </tr>\n",
              "    <tr>\n",
              "      <th>9</th>\n",
              "      <td>3.92</td>\n",
              "      <td>3.896491</td>\n",
              "      <td>0.023509</td>\n",
              "    </tr>\n",
              "  </tbody>\n",
              "</table>\n",
              "</div>"
            ],
            "text/plain": [
              "   Observed  Predicted      diff\n",
              "0      4.29   3.883288  0.406712\n",
              "1      4.23   3.819300  0.410700\n",
              "2      3.27   3.954950 -0.684950\n",
              "3      3.99   3.919310  0.070690\n",
              "4      3.83   3.922710 -0.092710\n",
              "5      3.66   3.913309 -0.253309\n",
              "6      3.64   3.914832 -0.274832\n",
              "7      3.74   3.918488 -0.178488\n",
              "8      4.06   3.823783  0.236217\n",
              "9      3.92   3.896491  0.023509"
            ]
          },
          "metadata": {
            "tags": []
          },
          "execution_count": 38
        }
      ]
    },
    {
      "cell_type": "code",
      "metadata": {
        "id": "BN9aV-9SUycB",
        "colab_type": "code",
        "colab": {
          "base_uri": "https://localhost:8080/",
          "height": 70
        },
        "outputId": "77307bdf-1e2c-4490-837f-4d3710131444"
      },
      "source": [
        "# second model performs way better with Root Mean Square Error (RMSE) at around 0.35 and Mean Absolute Error (MAE) around 0.23 for other books not rated high\n",
        "# evaluate the performance of the algorithm\n",
        "print('Mean Absolute Error (MAE):', metrics.mean_absolute_error(y_test, Pedicted_Scores))\n",
        "print('Mean Squared Error (MSE):', metrics.mean_squared_error(y_test, Pedicted_Scores))\n",
        "print('Root Mean Squared Error (RMSE):', np.sqrt(metrics.mean_squared_error(y_test, Pedicted_Scores)))"
      ],
      "execution_count": 39,
      "outputs": [
        {
          "output_type": "stream",
          "text": [
            "Mean Absolute Error (MAE): 0.2370365979855979\n",
            "Mean Squared Error (MSE): 0.12525398412067856\n",
            "Root Mean Squared Error (RMSE): 0.3539123961105044\n"
          ],
          "name": "stdout"
        }
      ]
    },
    {
      "cell_type": "code",
      "metadata": {
        "id": "v02B86eGUycD",
        "colab_type": "code",
        "colab": {}
      },
      "source": [
        ""
      ],
      "execution_count": null,
      "outputs": []
    }
  ]
}